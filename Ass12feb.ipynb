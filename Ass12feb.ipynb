{
 "cells": [
  {
   "cell_type": "code",
   "execution_count": null,
   "id": "ee5843fa-c7ac-4bbe-ba89-d90f49850d0f",
   "metadata": {},
   "outputs": [],
   "source": [
    "#solution 1\n",
    "'''An exception in Python is an event that occurs during the execution of a program that disrupts the normal flow of instructions. Exceptions are raised when an error occurs during the execution of a program. This can be due to various reasons, such as trying to divide a number by zero, accessing an index in a list that doesn't exist, or trying to open a file that doesn't exist.\n",
    "\n",
    "When an exception is raised, the normal flow of the program is interrupted, and Python tries to find an exception handler, which is a block of code that can handle the exception and allow the program to continue executing. If no exception handler is found, the program will terminate and display an error message.\n",
    "\n",
    "A syntax error, on the other hand, occurs when the code written by the programmer is not valid according to the syntax rules of the Python language. It occurs before the code is executed, when Python is trying to parse the code. Syntax errors are usually indicated by error messages that point to a specific line of code where the error occurred.\n",
    "\n",
    "In summary, the main difference between an exception and a syntax error is that exceptions occur during the execution of the code, while syntax errors occur when the code is being parsed and before it is executed.'''"
   ]
  },
  {
   "cell_type": "code",
   "execution_count": 1,
   "id": "485c2d1c-b2e3-47b6-ad21-e68f7441f3f4",
   "metadata": {},
   "outputs": [
    {
     "ename": "ZeroDivisionError",
     "evalue": "division by zero",
     "output_type": "error",
     "traceback": [
      "\u001b[0;31m---------------------------------------------------------------------------\u001b[0m",
      "\u001b[0;31mZeroDivisionError\u001b[0m                         Traceback (most recent call last)",
      "Cell \u001b[0;32mIn [1], line 8\u001b[0m\n\u001b[1;32m      6\u001b[0m x \u001b[38;5;241m=\u001b[39m \u001b[38;5;241m10\u001b[39m\n\u001b[1;32m      7\u001b[0m y \u001b[38;5;241m=\u001b[39m \u001b[38;5;241m0\u001b[39m\n\u001b[0;32m----> 8\u001b[0m result \u001b[38;5;241m=\u001b[39m \u001b[43mdivide\u001b[49m\u001b[43m(\u001b[49m\u001b[43mx\u001b[49m\u001b[43m,\u001b[49m\u001b[43m \u001b[49m\u001b[43my\u001b[49m\u001b[43m)\u001b[49m\n\u001b[1;32m      9\u001b[0m \u001b[38;5;28mprint\u001b[39m(result)\n",
      "Cell \u001b[0;32mIn [1], line 4\u001b[0m, in \u001b[0;36mdivide\u001b[0;34m(a, b)\u001b[0m\n\u001b[1;32m      3\u001b[0m \u001b[38;5;28;01mdef\u001b[39;00m \u001b[38;5;21mdivide\u001b[39m(a, b):\n\u001b[0;32m----> 4\u001b[0m     \u001b[38;5;28;01mreturn\u001b[39;00m \u001b[43ma\u001b[49m\u001b[43m \u001b[49m\u001b[38;5;241;43m/\u001b[39;49m\u001b[43m \u001b[49m\u001b[43mb\u001b[49m\n",
      "\u001b[0;31mZeroDivisionError\u001b[0m: division by zero"
     ]
    }
   ],
   "source": [
    "#solution 2\n",
    "'''When an exception is raised in a Python program and is not handled, the normal flow of the program is disrupted, and the program terminates immediately. The Python interpreter will then display an error message indicating the type of exception that was raised and the location in the code where the exception occurred.'''\n",
    "def divide(a, b):\n",
    "    return a / b\n",
    "\n",
    "x = 10\n",
    "y = 0\n",
    "result = divide(x, y)\n",
    "print(result)\n"
   ]
  },
  {
   "cell_type": "code",
   "execution_count": 1,
   "id": "5eb2f30e-1390-4034-9fcc-359a8b10c422",
   "metadata": {},
   "outputs": [
    {
     "name": "stdin",
     "output_type": "stream",
     "text": [
      "Enter a number:  100\n"
     ]
    }
   ],
   "source": [
    "#solution 3\n",
    "'''In Python, exceptions can be caught and handled using a try statement. A try statement consists of a try block and an associated except block. The code that might raise an exception is placed inside the try block, and the code to handle the exception is placed in the except block.'''\n",
    "try:\n",
    "    x = int(input(\"Enter a number: \"))\n",
    "    result = 10 / x\n",
    "except ZeroDivisionError:\n",
    "    print(\"Error: Division by zero\")\n",
    "except ValueError:\n",
    "    print(\"Error: Invalid input. Please enter a number\")\n"
   ]
  },
  {
   "cell_type": "code",
   "execution_count": 2,
   "id": "6a3da9a8-addc-4a91-ae74-1ddab67e5d0d",
   "metadata": {},
   "outputs": [
    {
     "name": "stdout",
     "output_type": "stream",
     "text": [
      "this is my except block [Errno 2] No such file or directory: 'test3.txt'\n",
      "finally will execute itself in any situation\n"
     ]
    }
   ],
   "source": [
    "#solution 4\n",
    "try :\n",
    "    f=open(\"test3.txt\",\"r\")\n",
    "    f.write(\"write into my file\")\n",
    "except Exception as e :\n",
    "    print(\"this is my except block\",e)\n",
    "else:\n",
    "    f.close()\n",
    "    print(\"this will be executed once your try will execute without error\")\n",
    "finally:\n",
    "    print(\"finally will execute itself in any situation\")    \n",
    "    "
   ]
  },
  {
   "cell_type": "code",
   "execution_count": 3,
   "id": "8313bd26-d6d3-4854-b10e-c56b8ad1f099",
   "metadata": {},
   "outputs": [
    {
     "name": "stdout",
     "output_type": "stream",
     "text": [
      "Error: division by zero\n"
     ]
    }
   ],
   "source": [
    "#solution 5\n",
    "'''In Python, you can create custom exceptions by defining your own exception class that inherits from the Exception class. Custom exceptions allow you to raise exceptions that are more descriptive and meaningful for your specific use case, rather than using the built-in exceptions provided by Python.\n",
    "\n",
    "The need for custom exceptions arises when you want to add more context or information to the exceptions raised in your program. For example, imagine that you have a function that performs some action, and you want to raise an exception if the action cannot be performed due to a specific reason. In this case, you could create a custom exception class that includes the specific reason in the exception message.'''\n",
    "class CustomException(Exception):\n",
    "    def __init__(self, message):\n",
    "        self.message = message\n",
    "\n",
    "def divide(a, b):\n",
    "    if b == 0:\n",
    "        raise CustomException(\"division by zero\")\n",
    "    return a / b\n",
    "\n",
    "try:\n",
    "    x = 10\n",
    "    y = 0\n",
    "    result = divide(x, y)\n",
    "    print(result)\n",
    "except CustomException as e:\n",
    "    print(\"Error:\", e.message)\n"
   ]
  },
  {
   "cell_type": "code",
   "execution_count": null,
   "id": "debdb269-8b88-49fd-ad63-0c8bebb9ea26",
   "metadata": {},
   "outputs": [],
   "source": [
    "#solution 6\n"
   ]
  }
 ],
 "metadata": {
  "kernelspec": {
   "display_name": "Python 3 (ipykernel)",
   "language": "python",
   "name": "python3"
  },
  "language_info": {
   "codemirror_mode": {
    "name": "ipython",
    "version": 3
   },
   "file_extension": ".py",
   "mimetype": "text/x-python",
   "name": "python",
   "nbconvert_exporter": "python",
   "pygments_lexer": "ipython3",
   "version": "3.10.6"
  }
 },
 "nbformat": 4,
 "nbformat_minor": 5
}
